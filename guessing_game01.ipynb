{
 "cells": [
  {
   "cell_type": "code",
   "execution_count": 1,
   "id": "95d2c188",
   "metadata": {},
   "outputs": [],
   "source": [
    "logo='''\n",
    "                      _                                 \n",
    "  __ _ _  _ ___ _____(_)_ _  __ _   __ _ __ _ _ __  ___ \n",
    " / _` | || / -_|_-<_-< | ' \\/ _` | / _` / _` | '  \\/ -_)\n",
    " \\__, |\\_,_\\___/__/__/_|_||_\\__, | \\__, \\__,_|_|_|_\\___|\n",
    " |___/                      |___/  |___/                \n",
    "'''"
   ]
  },
  {
   "cell_type": "code",
   "execution_count": 13,
   "id": "f0b6f9ce",
   "metadata": {},
   "outputs": [
    {
     "name": "stdout",
     "output_type": "stream",
     "text": [
      "\n",
      "                      _                                 \n",
      "  __ _ _  _ ___ _____(_)_ _  __ _   __ _ __ _ _ __  ___ \n",
      " / _` | || / -_|_-<_-< | ' \\/ _` | / _` / _` | '  \\/ -_)\n",
      " \\__, |\\_,_\\___/__/__/_|_||_\\__, | \\__, \\__,_|_|_|_\\___|\n",
      " |___/                      |___/  |___/                \n",
      "\n",
      "welcome the number guessing game!\n",
      "I am thinking of a number between 1 to 100.\n",
      "Choose a dificulty.Type 'easy' or 'hard':hard\n",
      "you have remaining 5 attempt!\n",
      "Make a guess:50\n",
      "Too low\n",
      "guess again\n",
      "you have remaining 4 attempt!\n",
      "Make a guess:70\n",
      "Too high\n",
      "guess again\n",
      "you have remaining 3 attempt!\n",
      "Make a guess:60\n",
      "Too high\n",
      "guess again\n",
      "you have remaining 2 attempt!\n",
      "Make a guess:55\n",
      "Too low\n",
      "you have remaining 1 attempt!\n",
      "Make a guess:10\n",
      "Too low\n",
      "you have run out of guesses,you loss\n"
     ]
    }
   ],
   "source": [
    "import random\n",
    "print(logo)\n",
    "print(\"welcome the number guessing game!\")\n",
    "print(\"I am thinking of a number between 1 to 100.\")\n",
    "random_number=random.randint(1,101)\n",
    "dificulty_level=input(\"Choose a dificulty.Type 'easy' or 'hard':\")\n",
    "if dificulty_level==\"easy\":\n",
    "    attempt=10\n",
    "elif dificulty_level==\"hard\":\n",
    "    attempt=5\n",
    "loop_attempt=0\n",
    "while loop_attempt<attempt:\n",
    "    print(f\"you have remaining {attempt} attempt!\")\n",
    "    user_input=int(input(\"Make a guess:\"))\n",
    "    if user_input>random_number:\n",
    "        attempt-=1\n",
    "        print(\"Too high\")\n",
    "    elif user_input<random_number:\n",
    "        attempt-=1\n",
    "        print(\"Too low\")\n",
    "    elif user_input==random_number:\n",
    "        print(\"yea hoo!you win\")\n",
    "        print(random_number)\n",
    "        break\n",
    "    if attempt>1:\n",
    "        print(\"guess again\")\n",
    "else:\n",
    "    print(\"you have run out of guesses,you loss\")"
   ]
  },
  {
   "cell_type": "code",
   "execution_count": null,
   "id": "75946b01",
   "metadata": {},
   "outputs": [],
   "source": []
  }
 ],
 "metadata": {
  "kernelspec": {
   "display_name": "Python 3 (ipykernel)",
   "language": "python",
   "name": "python3"
  },
  "language_info": {
   "codemirror_mode": {
    "name": "ipython",
    "version": 3
   },
   "file_extension": ".py",
   "mimetype": "text/x-python",
   "name": "python",
   "nbconvert_exporter": "python",
   "pygments_lexer": "ipython3",
   "version": "3.9.7"
  }
 },
 "nbformat": 4,
 "nbformat_minor": 5
}
